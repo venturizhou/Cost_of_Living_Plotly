{
 "nbformat": 4,
 "nbformat_minor": 2,
 "metadata": {
  "language_info": {
   "name": "python",
   "codemirror_mode": {
    "name": "ipython",
    "version": 3
   }
  },
  "orig_nbformat": 2,
  "file_extension": ".py",
  "mimetype": "text/x-python",
  "name": "python",
  "npconvert_exporter": "python",
  "pygments_lexer": "ipython3",
  "version": 3
 },
 "cells": [
  {
   "cell_type": "code",
   "execution_count": 1,
   "metadata": {},
   "outputs": [],
   "source": [
    "import numpy as np\n",
    "import pandas as pd"
   ]
  },
  {
   "cell_type": "code",
   "execution_count": 6,
   "metadata": {},
   "outputs": [],
   "source": [
    "df = pd.read_csv('C:\\\\Users\\\\ventu\\\\Python Projects\\\\Cost_of_Living\\\\cost-of-living.csv')"
   ]
  },
  {
   "cell_type": "code",
   "execution_count": 12,
   "metadata": {},
   "outputs": [
    {
     "data": {
      "text/html": "<div>\n<style scoped>\n    .dataframe tbody tr th:only-of-type {\n        vertical-align: middle;\n    }\n\n    .dataframe tbody tr th {\n        vertical-align: top;\n    }\n\n    .dataframe thead th {\n        text-align: right;\n    }\n</style>\n<table border=\"1\" class=\"dataframe\">\n  <thead>\n    <tr style=\"text-align: right;\">\n      <th></th>\n      <th>Goods</th>\n      <th>Saint Petersburg, Russia</th>\n      <th>Istanbul, Turkey</th>\n      <th>Izmir, Turkey</th>\n      <th>Helsinki, Finland</th>\n      <th>Chisinau, Moldova</th>\n      <th>Milan, Italy</th>\n      <th>Cairo, Egypt</th>\n      <th>Banja Luka, Bosnia And Herzegovina</th>\n      <th>Baku, Azerbaijan</th>\n      <th>...</th>\n      <th>Lviv, Ukraine</th>\n      <th>Novosibirsk, Russia</th>\n      <th>Bursa, Turkey</th>\n      <th>Brussels, Belgium</th>\n      <th>Jerusalem, Israel</th>\n      <th>Melbourne, Australia</th>\n      <th>Perth, Australia</th>\n      <th>Sydney, Australia</th>\n      <th>Alexandria, Egypt</th>\n      <th>Quito, Ecuador</th>\n    </tr>\n  </thead>\n  <tbody>\n    <tr>\n      <th>0</th>\n      <td>Meal, Inexpensive Restaurant</td>\n      <td>7.34</td>\n      <td>4.58</td>\n      <td>3.06</td>\n      <td>12.00</td>\n      <td>4.67</td>\n      <td>15.0</td>\n      <td>3.38</td>\n      <td>3.58</td>\n      <td>5.27</td>\n      <td>...</td>\n      <td>3.75</td>\n      <td>5.72</td>\n      <td>3.82</td>\n      <td>15.0</td>\n      <td>15.56</td>\n      <td>10.22</td>\n      <td>12.43</td>\n      <td>11.81</td>\n      <td>2.81</td>\n      <td>3.59</td>\n    </tr>\n    <tr>\n      <th>1</th>\n      <td>Meal for 2 People, Mid-range Restaurant, Three...</td>\n      <td>29.35</td>\n      <td>15.28</td>\n      <td>12.22</td>\n      <td>65.00</td>\n      <td>20.74</td>\n      <td>60.0</td>\n      <td>17.48</td>\n      <td>22.99</td>\n      <td>23.73</td>\n      <td>...</td>\n      <td>18.76</td>\n      <td>22.01</td>\n      <td>11.47</td>\n      <td>60.0</td>\n      <td>62.24</td>\n      <td>49.54</td>\n      <td>56.55</td>\n      <td>54.37</td>\n      <td>14.06</td>\n      <td>31.45</td>\n    </tr>\n    <tr>\n      <th>2</th>\n      <td>McMeal at McDonalds (or Equivalent Combo Meal)</td>\n      <td>4.40</td>\n      <td>3.82</td>\n      <td>3.06</td>\n      <td>8.00</td>\n      <td>4.15</td>\n      <td>8.0</td>\n      <td>4.51</td>\n      <td>3.58</td>\n      <td>4.22</td>\n      <td>...</td>\n      <td>3.56</td>\n      <td>3.67</td>\n      <td>3.06</td>\n      <td>8.2</td>\n      <td>12.97</td>\n      <td>7.12</td>\n      <td>7.32</td>\n      <td>7.15</td>\n      <td>3.38</td>\n      <td>5.39</td>\n    </tr>\n    <tr>\n      <th>3</th>\n      <td>Domestic Beer (0.5 liter draught)</td>\n      <td>2.20</td>\n      <td>3.06</td>\n      <td>2.29</td>\n      <td>6.50</td>\n      <td>1.04</td>\n      <td>5.0</td>\n      <td>1.69</td>\n      <td>1.02</td>\n      <td>0.84</td>\n      <td>...</td>\n      <td>1.50</td>\n      <td>1.10</td>\n      <td>2.37</td>\n      <td>4.0</td>\n      <td>7.26</td>\n      <td>5.57</td>\n      <td>5.90</td>\n      <td>4.97</td>\n      <td>1.69</td>\n      <td>1.35</td>\n    </tr>\n    <tr>\n      <th>4</th>\n      <td>Imported Beer (0.33 liter bottle)</td>\n      <td>2.20</td>\n      <td>3.06</td>\n      <td>2.75</td>\n      <td>6.75</td>\n      <td>1.43</td>\n      <td>5.0</td>\n      <td>2.82</td>\n      <td>1.53</td>\n      <td>2.11</td>\n      <td>...</td>\n      <td>1.50</td>\n      <td>2.20</td>\n      <td>3.06</td>\n      <td>4.0</td>\n      <td>7.26</td>\n      <td>5.57</td>\n      <td>5.59</td>\n      <td>4.97</td>\n      <td>2.81</td>\n      <td>2.70</td>\n    </tr>\n  </tbody>\n</table>\n<p>5 rows × 161 columns</p>\n</div>",
      "text/plain": "                                               Goods  \\\n0                       Meal, Inexpensive Restaurant   \n1  Meal for 2 People, Mid-range Restaurant, Three...   \n2     McMeal at McDonalds (or Equivalent Combo Meal)   \n3                  Domestic Beer (0.5 liter draught)   \n4                  Imported Beer (0.33 liter bottle)   \n\n   Saint Petersburg, Russia  Istanbul, Turkey  Izmir, Turkey  \\\n0                      7.34              4.58           3.06   \n1                     29.35             15.28          12.22   \n2                      4.40              3.82           3.06   \n3                      2.20              3.06           2.29   \n4                      2.20              3.06           2.75   \n\n   Helsinki, Finland  Chisinau, Moldova  Milan, Italy  Cairo, Egypt  \\\n0              12.00               4.67          15.0          3.38   \n1              65.00              20.74          60.0         17.48   \n2               8.00               4.15           8.0          4.51   \n3               6.50               1.04           5.0          1.69   \n4               6.75               1.43           5.0          2.82   \n\n   Banja Luka, Bosnia And Herzegovina  Baku, Azerbaijan  ...  Lviv, Ukraine  \\\n0                                3.58              5.27  ...           3.75   \n1                               22.99             23.73  ...          18.76   \n2                                3.58              4.22  ...           3.56   \n3                                1.02              0.84  ...           1.50   \n4                                1.53              2.11  ...           1.50   \n\n   Novosibirsk, Russia  Bursa, Turkey  Brussels, Belgium  Jerusalem, Israel  \\\n0                 5.72           3.82               15.0              15.56   \n1                22.01          11.47               60.0              62.24   \n2                 3.67           3.06                8.2              12.97   \n3                 1.10           2.37                4.0               7.26   \n4                 2.20           3.06                4.0               7.26   \n\n   Melbourne, Australia  Perth, Australia  Sydney, Australia  \\\n0                 10.22             12.43              11.81   \n1                 49.54             56.55              54.37   \n2                  7.12              7.32               7.15   \n3                  5.57              5.90               4.97   \n4                  5.57              5.59               4.97   \n\n   Alexandria, Egypt  Quito, Ecuador  \n0               2.81            3.59  \n1              14.06           31.45  \n2               3.38            5.39  \n3               1.69            1.35  \n4               2.81            2.70  \n\n[5 rows x 161 columns]"
     },
     "execution_count": 12,
     "metadata": {},
     "output_type": "execute_result"
    }
   ],
   "source": [
    "df = df.rename(columns={\"Unnamed: 0\": 'Goods'})\n",
    "df.head()"
   ]
  },
  {
   "cell_type": "code",
   "execution_count": 14,
   "metadata": {},
   "outputs": [
    {
     "data": {
      "text/plain": "0        23.12\n1       109.16\n2        12.97\n3        11.13\n4        11.13\n5         3.87\n6         3.21\n7         2.64\n8         3.33\n9         5.33\n10       22.63\n11        2.16\n12       29.52\n13        7.58\n14        8.42\n15       20.82\n16        4.00\n17       25.23\n18      167.34\n19        1.96\n20    76598.98\n21     3131.06\n22     2527.11\n23     5661.53\n24     4320.95\n25      265.52\n26        0.44\n27       93.29\n28       95.89\n29       33.00\n30       16.64\n31      108.50\n32       59.53\n33      126.37\n34      171.22\n35    27720.21\n36    17532.98\n37     6532.21\n38       48.69\n39       10.11\n40        4.16\n41       73.78\n42        6.70\n43        5.79\n44        3.81\n45        2.58\n46        5.21\n47        5.70\n48        5.76\n49        3.50\n50        3.40\n51       46.09\n52    67345.10\n53     2194.64\n54    34441.93\ndtype: float64"
     },
     "execution_count": 14,
     "metadata": {},
     "output_type": "execute_result"
    }
   ],
   "source": [
    "df.max(axis=1)"
   ]
  },
  {
   "cell_type": "code",
   "execution_count": null,
   "metadata": {},
   "outputs": [],
   "source": []
  }
 ]
}